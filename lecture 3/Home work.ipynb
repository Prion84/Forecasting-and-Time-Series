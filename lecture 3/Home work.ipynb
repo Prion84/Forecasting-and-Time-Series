{
 "cells": [
  {
   "cell_type": "markdown",
   "id": "a68c2845",
   "metadata": {},
   "source": [
    "Импортируйте нужные библиотеки\n",
    "===\n",
    "Мы уже много работали с  pandas, numpy и различными инструментами визуализации. Поэтому предлагаем вам самим импортировать те библиотеки, которые вам нужны для выполнения домашнего задания \n",
    "\n",
    "Временной ряд \n",
    "=== \n",
    "В папке datasets у нас находится множество различных временных рядов, которые состоят из двух колонок - времени и значения. Можно взять любые данные на выбор, кроме того, который мы разобрали на лекции (shampoo_sales). \n",
    "\n",
    "Задание \n",
    "==\n",
    "\n",
    "* Сделайте визуализацию ряда\n",
    "* Разбейте его на компоненты\n",
    "* Проверьте автокорреляцию\n",
    "* Примените одну или несколько трансформаций, разобранных на лекции"
   ]
  },
  {
   "cell_type": "code",
   "execution_count": null,
   "id": "824dec8a",
   "metadata": {},
   "outputs": [],
   "source": []
  }
 ],
 "metadata": {
  "kernelspec": {
   "display_name": "Python 3",
   "language": "python",
   "name": "python3"
  },
  "language_info": {
   "codemirror_mode": {
    "name": "ipython",
    "version": 3
   },
   "file_extension": ".py",
   "mimetype": "text/x-python",
   "name": "python",
   "nbconvert_exporter": "python",
   "pygments_lexer": "ipython3",
   "version": "3.7.2"
  }
 },
 "nbformat": 4,
 "nbformat_minor": 5
}
